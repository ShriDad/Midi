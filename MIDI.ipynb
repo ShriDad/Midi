{
 "cells": [
  {
   "cell_type": "code",
   "execution_count": 1,
   "metadata": {},
   "outputs": [
    {
     "name": "stdout",
     "output_type": "stream",
     "text": [
      "[Instrument(program=0, is_drum=True, name=\"untitled\"), Instrument(program=23, is_drum=False, name=\"untitled\"), Instrument(program=0, is_drum=False, name=\"untitled\"), Instrument(program=54, is_drum=False, name=\"untitled\"), Instrument(program=0, is_drum=False, name=\"untitled\"), Instrument(program=0, is_drum=False, name=\"untitled\"), Instrument(program=0, is_drum=False, name=\"untitled\"), Instrument(program=0, is_drum=False, name=\"untitled\"), Instrument(program=46, is_drum=False, name=\"untitled\")]\n",
      "Instrument(program=23, is_drum=False, name=\"untitled\")\n",
      "Instrument(program=0, is_drum=False, name=\"untitled\")\n",
      "Instrument(program=54, is_drum=False, name=\"untitled\")\n",
      "Instrument(program=0, is_drum=False, name=\"untitled\")\n",
      "Instrument(program=0, is_drum=False, name=\"untitled\")\n",
      "Instrument(program=0, is_drum=False, name=\"untitled\")\n",
      "Instrument(program=0, is_drum=False, name=\"untitled\")\n",
      "Instrument(program=46, is_drum=False, name=\"untitled\")\n",
      "Instrument(program=46, is_drum=False, name=\"untitled\")\n"
     ]
    }
   ],
   "source": [
    "from __future__ import print_function\n",
    "import pretty_midi\n",
    "import mir_eval.display\n",
    "import librosa.display\n",
    "import matplotlib.pyplot as plt\n",
    "import numpy as np\n",
    "\n",
    "# For putting audio in the notebook\n",
    "import IPython.display\n",
    "midi_data = pretty_midi.PrettyMIDI('G:/钢琴曲子/01/hhyy1.mid')\n",
    "# Print an empirical estimate of its global tempo\n",
    "print(midi_data.instruments)\n",
    "a = midi_data.instruments[0].get_piano_roll()\n",
    "b = midi_data.instruments[3].get_piano_roll()\n",
    "len(midi_data.instruments[3].notes)\n",
    "c= (midi_data.instruments[3])\n",
    "\n",
    "for instr_num in range (len(midi_data.instruments)):\n",
    "    if not midi_data.instruments[instr_num].is_drum:\n",
    "        instrument= (midi_data.instruments[instr_num])\n",
    "        print (instrument)\n",
    "print (instrument)"
   ]
  },
  {
   "cell_type": "code",
   "execution_count": 2,
   "metadata": {
    "scrolled": true
   },
   "outputs": [
    {
     "data": {
      "image/png": "[encoded data removed]",
      "text/plain": [
       "<Figure size 864x288 with 1 Axes>"
      ]
     },
     "metadata": {},
     "output_type": "display_data"
    }
   ],
   "source": [
    "def plot_piano_roll(pm, start_pitch, end_pitch, fs=100):\n",
    "    # Use librosa's specshow function for displaying the piano roll\n",
    "    librosa.display.specshow(pm.get_piano_roll(fs)[start_pitch:end_pitch],hop_length=1,\n",
    "                             sr=fs, x_axis='time', y_axis='cqt_note',\n",
    "                             fmin=pretty_midi.note_number_to_hz(start_pitch))\n",
    "\n",
    "plt.figure(figsize=(12, 4))\n",
    "plot_piano_roll(midi_data, 40,80)"
   ]
  },
  {
   "cell_type": "markdown",
   "metadata": {},
   "source": [
    "删除通道10的音轨 删除鼓 也可统一音色 只需更改program即可"
   ]
  },
  {
   "cell_type": "code",
   "execution_count": 3,
   "metadata": {},
   "outputs": [
    {
     "name": "stdout",
     "output_type": "stream",
     "text": [
      "[Instrument(program=23, is_drum=False, name=\"untitled\"), Instrument(program=0, is_drum=False, name=\"untitled\"), Instrument(program=54, is_drum=False, name=\"untitled\"), Instrument(program=0, is_drum=False, name=\"untitled\"), Instrument(program=0, is_drum=False, name=\"untitled\"), Instrument(program=0, is_drum=False, name=\"untitled\"), Instrument(program=0, is_drum=False, name=\"untitled\"), Instrument(program=46, is_drum=False, name=\"untitled\")]\n"
     ]
    },
    {
     "data": {
      "image/png": "[encoded data removed]",
      "text/plain": [
       "<Figure size 864x288 with 1 Axes>"
      ]
     },
     "metadata": {},
     "output_type": "display_data"
    }
   ],
   "source": [
    "def deleteDrum(midi_data):\n",
    "    new_midi = pretty_midi.PrettyMIDI()\n",
    "    notes_velocity = []\n",
    "    notes_pitch = []\n",
    "    notes_start = []\n",
    "    notes_end = []\n",
    "    for instr_num in range (len(midi_data.instruments)):\n",
    "        if not midi_data.instruments[instr_num].is_drum:\n",
    "            instrument = (midi_data.instruments[instr_num])            \n",
    "            program = instrument.program\n",
    "            is_drum = instrument.is_drum\n",
    "            name = instrument.name\n",
    "            inst = pretty_midi.Instrument(program=program, is_drum=is_drum, name=name)\n",
    "            new_midi.instruments.append(inst)\n",
    "            for j in range (len(instrument.notes)):\n",
    "                note = instrument.notes[j]\n",
    "                inst.notes.append(pretty_midi.Note(note.velocity, note.pitch, note.start, note.end))\n",
    "    return new_midi\n",
    "#注 ：可将该新生成的midi写出来 midi.write即可\n",
    "new_midi = deleteDrum(midi_data)\n",
    "#打印新生成的midi         \n",
    "print(new_midi.instruments)\n",
    "\n",
    "plt.figure(figsize=(12, 4))\n",
    "plot_piano_roll(new_midi, 40,80)"
   ]
  },
  {
   "cell_type": "markdown",
   "metadata": {},
   "source": [
    "将pretty_midi对象转变成数组格式 方便数据处理"
   ]
  },
  {
   "cell_type": "code",
   "execution_count": 4,
   "metadata": {},
   "outputs": [
    {
     "data": {
      "text/plain": [
       "array([  1.48875,   1.8    , 100.     ,  67.     ,   1.81125,   2.1225 ,\n",
       "       100.     ,  67.     ,   2.1    ,   2.41125, 100.     ,  69.     ,\n",
       "         2.4    ,   2.71125, 100.     ,  74.     ,   2.71125,   3.0225 ,\n",
       "       100.     ,  72.     ,   3.0225 ,   3.33375, 100.     ,  72.     ,\n",
       "         3.3    ,   3.61125, 100.     ,  69.     ,   3.61125,   3.9225 ,\n",
       "       100.     ,  72.     ,   4.2    ,   4.51125, 100.     ,  69.     ,\n",
       "         4.51125,   4.8225 , 100.     ,  67.     ,   4.8    ,   5.11125,\n",
       "       100.     ,  69.     ,   5.11125,   5.4225 , 100.     ,  69.     ,\n",
       "         5.41125,   5.7225 , 100.     ,  67.     ,   5.68875,   6.     ,\n",
       "       100.     ,  69.     ,   6.01125,   6.6    , 100.     ,  69.     ,\n",
       "         6.6    ,   6.91125, 100.     ,  67.     ,   6.9    ,   7.21125,\n",
       "       100.     ,  69.     ,   7.2    ,   7.51125, 100.     ,  74.     ,\n",
       "         7.5225 ,   7.83375, 100.     ,  72.     ,   7.8225 ,   7.83375,\n",
       "       100.     ,  72.     ,   8.11125,   8.4225 , 100.     ,  69.     ,\n",
       "         8.4    ,   9.     , 100.     ,  72.     ,   9.     ,   9.31125,\n",
       "       100.     ,  69.     ,   9.3    ,   9.61125, 100.     ,  67.     ,\n",
       "         9.6    ,   9.91125, 100.     ,  69.     ,   9.9225 ,  10.23375,\n",
       "       100.     ,  67.     ,  10.2225 ,  10.23375, 100.     ,  67.     ,\n",
       "        10.51125,  10.8225 , 100.     ,  64.     ,  10.81125,  11.4    ,\n",
       "       100.     ,  62.     ,  11.4225 ,  11.7    , 100.     ,  62.     ,\n",
       "        11.6775 ,  12.     , 100.     ,  64.     ,  12.     ,  12.9    ,\n",
       "       100.     ,  60.     ,  12.91125,  13.23375, 100.     ,  57.     ,\n",
       "        13.2    ,  14.1    , 100.     ,  60.     ,  14.0775 ,  14.4    ,\n",
       "       100.     ,  69.     ,  14.435  ,  14.7575 , 100.     ,  69.     ,\n",
       "        14.7225 ,  15.     , 100.     ,  67.     ,  15.01125,  15.28875,\n",
       "       100.     ,  67.     ,  15.3    ,  15.6    , 100.     ,  64.     ,\n",
       "        15.6225 ,  16.2    , 100.     ,  64.     ,  16.2    ,  16.5    ,\n",
       "       100.     ,  62.     ,  16.48875,  16.78875, 100.     ,  64.     ,\n",
       "        16.81125,  17.7    , 100.     ,  62.     ,  17.7    ,  18.     ,\n",
       "       100.     ,  60.     ,  18.035  ,  18.6    , 100.     ,  62.     ,\n",
       "        18.61125,  19.17625, 100.     ,  69.     ,  19.1775 ,  19.48875,\n",
       "       100.     ,  76.     ,  19.21125,  20.4    , 100.     ,  67.     ,\n",
       "        20.68875,  21.     , 100.     ,  67.     ,  21.0225 ,  21.33375,\n",
       "       100.     ,  67.     ,  21.3225 ,  21.63375, 100.     ,  69.     ,\n",
       "        21.6    ,  21.91125, 100.     ,  74.     ,  21.91125,  22.2225 ,\n",
       "       100.     ,  72.     ,  22.2225 ,  22.53375, 100.     ,  72.     ,\n",
       "        22.5    ,  22.81125, 100.     ,  69.     ,  22.81125,  23.1225 ,\n",
       "       100.     ,  72.     ,  23.4    ,  23.71125, 100.     ,  69.     ,\n",
       "        23.71125,  24.0225 , 100.     ,  67.     ,  24.     ,  24.31125,\n",
       "       100.     ,  69.     ,  24.31125,  24.6225 , 100.     ,  69.     ,\n",
       "        24.61125,  24.9225 , 100.     ,  67.     ,  24.88875,  25.2    ,\n",
       "       100.     ,  69.     ,  25.21125,  25.8    , 100.     ,  69.     ,\n",
       "        25.8    ,  26.11125, 100.     ,  67.     ,  26.1    ,  26.41125,\n",
       "       100.     ,  69.     ,  26.4    ,  26.71125, 100.     ,  74.     ,\n",
       "        26.7225 ,  27.03375, 100.     ,  72.     ,  27.0225 ,  27.03375,\n",
       "       100.     ,  72.     ,  27.31125,  27.6225 , 100.     ,  69.     ,\n",
       "        27.6    ,  28.2    , 100.     ,  72.     ,  28.2    ,  28.51125,\n",
       "       100.     ,  69.     ,  28.5    ,  28.81125, 100.     ,  67.     ,\n",
       "        28.8    ,  29.11125, 100.     ,  69.     ,  29.1225 ,  29.43375,\n",
       "       100.     ,  67.     ,  29.4225 ,  29.43375, 100.     ,  67.     ,\n",
       "        29.71125,  30.0225 , 100.     ,  64.     ,  30.01125,  30.6    ,\n",
       "       100.     ,  62.     ,  30.6225 ,  30.9    , 100.     ,  62.     ,\n",
       "        30.8775 ,  31.2    , 100.     ,  64.     ])"
      ]
     },
     "execution_count": 4,
     "metadata": {},
     "output_type": "execute_result"
    }
   ],
   "source": [
    "def get_train_data(new_midi):\n",
    "    train_data = []\n",
    "    for i in range (len(new_midi.instruments)):\n",
    "        notes =[]\n",
    "        for j in range (len(new_midi.instruments[i].notes)):\n",
    "            note = new_midi.instruments[i].notes[j]\n",
    "            #更改了note事件的参数位置\n",
    "            notes.append(note.start)\n",
    "            notes.append(note.end)\n",
    "            notes.append(note.velocity)\n",
    "            notes.append(note.pitch)\n",
    "        a = np.array(notes)\n",
    "        train_data.append(a)     \n",
    "    return train_data\n",
    "train_data=get_train_data(new_midi)\n",
    "train_data[0]"
   ]
  },
  {
   "cell_type": "markdown",
   "metadata": {},
   "source": [
    "pitch%12 取模 化成十二平均律"
   ]
  },
  {
   "cell_type": "markdown",
   "metadata": {},
   "source": [
    "def getMod(x):\n",
    "    for i in range(len(x)):\n",
    "        for j in range(len(x[i])):\n",
    "            if (j%4==3):\n",
    "                x[i][j]= x[i][j]%12\n",
    "    return x\n",
    "#train_data_12=getMod(train_data)\n",
    "#train_data_12[2]\n",
    "    "
   ]
  },
  {
   "cell_type": "markdown",
   "metadata": {},
   "source": [
    "skyline算法 以保证每个音轨不存在复调 产生复调的满足以下条件：1.S1<=S2 2.E1>S2"
   ]
  },
  {
   "cell_type": "code",
   "execution_count": 5,
   "metadata": {},
   "outputs": [],
   "source": [
    "#这是一段丑陋的代码 暂时不优化\n",
    "def skyline(track):\n",
    "    siz = len(track)-4\n",
    "    i=0\n",
    "    while(i!=siz):\n",
    "        if ((track[i]<=track[i+4])&(track[i+1] > track[i+4])):\n",
    "            if ((track[i+3]<track[i+7])):\n",
    "                track[i+1] = track[i+4]\n",
    "            else:\n",
    "                track[i+4] = track[i+1]\n",
    "        i = i+4\n",
    "    return track\n",
    "#track=skyline(train_data_12[2])\n",
    "#track\n",
    "\n",
    "    "
   ]
  },
  {
   "cell_type": "markdown",
   "metadata": {},
   "source": [
    "给所有音轨使用skyline去除复调关系"
   ]
  },
  {
   "cell_type": "code",
   "execution_count": 6,
   "metadata": {},
   "outputs": [
    {
     "data": {
      "text/plain": [
       "[array([  1.48875,   1.8    , 100.     ,  67.     ,   1.81125,   2.1    ,\n",
       "        100.     ,  67.     ,   2.1    ,   2.4    , 100.     ,  69.     ,\n",
       "          2.4    ,   2.71125, 100.     ,  74.     ,   2.71125,   3.0225 ,\n",
       "        100.     ,  72.     ,   3.0225 ,   3.33375, 100.     ,  72.     ,\n",
       "          3.33375,   3.61125, 100.     ,  69.     ,   3.61125,   3.9225 ,\n",
       "        100.     ,  72.     ,   4.2    ,   4.51125, 100.     ,  69.     ,\n",
       "          4.51125,   4.8    , 100.     ,  67.     ,   4.8    ,   5.11125,\n",
       "        100.     ,  69.     ,   5.11125,   5.4225 , 100.     ,  69.     ,\n",
       "          5.4225 ,   5.68875, 100.     ,  67.     ,   5.68875,   6.     ,\n",
       "        100.     ,  69.     ,   6.01125,   6.6    , 100.     ,  69.     ,\n",
       "          6.6    ,   6.9    , 100.     ,  67.     ,   6.9    ,   7.2    ,\n",
       "        100.     ,  69.     ,   7.2    ,   7.51125, 100.     ,  74.     ,\n",
       "          7.5225 ,   7.83375, 100.     ,  72.     ,   7.83375,   7.83375,\n",
       "        100.     ,  72.     ,   8.11125,   8.4    , 100.     ,  69.     ,\n",
       "          8.4    ,   9.     , 100.     ,  72.     ,   9.     ,   9.31125,\n",
       "        100.     ,  69.     ,   9.31125,   9.6    , 100.     ,  67.     ,\n",
       "          9.6    ,   9.91125, 100.     ,  69.     ,   9.9225 ,  10.23375,\n",
       "        100.     ,  67.     ,  10.23375,  10.23375, 100.     ,  67.     ,\n",
       "         10.51125,  10.8225 , 100.     ,  64.     ,  10.8225 ,  11.4    ,\n",
       "        100.     ,  62.     ,  11.4225 ,  11.6775 , 100.     ,  62.     ,\n",
       "         11.6775 ,  12.     , 100.     ,  64.     ,  12.     ,  12.9    ,\n",
       "        100.     ,  60.     ,  12.91125,  13.2    , 100.     ,  57.     ,\n",
       "         13.2    ,  14.0775 , 100.     ,  60.     ,  14.0775 ,  14.4    ,\n",
       "        100.     ,  69.     ,  14.435  ,  14.7575 , 100.     ,  69.     ,\n",
       "         14.7575 ,  15.     , 100.     ,  67.     ,  15.01125,  15.28875,\n",
       "        100.     ,  67.     ,  15.3    ,  15.6    , 100.     ,  64.     ,\n",
       "         15.6225 ,  16.2    , 100.     ,  64.     ,  16.2    ,  16.48875,\n",
       "        100.     ,  62.     ,  16.48875,  16.78875, 100.     ,  64.     ,\n",
       "         16.81125,  17.7    , 100.     ,  62.     ,  17.7    ,  18.     ,\n",
       "        100.     ,  60.     ,  18.035  ,  18.6    , 100.     ,  62.     ,\n",
       "         18.61125,  19.17625, 100.     ,  69.     ,  19.1775 ,  19.48875,\n",
       "        100.     ,  76.     ,  19.48875,  20.4    , 100.     ,  67.     ,\n",
       "         20.68875,  21.     , 100.     ,  67.     ,  21.0225 ,  21.3225 ,\n",
       "        100.     ,  67.     ,  21.3225 ,  21.6    , 100.     ,  69.     ,\n",
       "         21.6    ,  21.91125, 100.     ,  74.     ,  21.91125,  22.2225 ,\n",
       "        100.     ,  72.     ,  22.2225 ,  22.53375, 100.     ,  72.     ,\n",
       "         22.53375,  22.81125, 100.     ,  69.     ,  22.81125,  23.1225 ,\n",
       "        100.     ,  72.     ,  23.4    ,  23.71125, 100.     ,  69.     ,\n",
       "         23.71125,  24.     , 100.     ,  67.     ,  24.     ,  24.31125,\n",
       "        100.     ,  69.     ,  24.31125,  24.6225 , 100.     ,  69.     ,\n",
       "         24.6225 ,  24.88875, 100.     ,  67.     ,  24.88875,  25.2    ,\n",
       "        100.     ,  69.     ,  25.21125,  25.8    , 100.     ,  69.     ,\n",
       "         25.8    ,  26.1    , 100.     ,  67.     ,  26.1    ,  26.4    ,\n",
       "        100.     ,  69.     ,  26.4    ,  26.71125, 100.     ,  74.     ,\n",
       "         26.7225 ,  27.03375, 100.     ,  72.     ,  27.03375,  27.03375,\n",
       "        100.     ,  72.     ,  27.31125,  27.6    , 100.     ,  69.     ,\n",
       "         27.6    ,  28.2    , 100.     ,  72.     ,  28.2    ,  28.51125,\n",
       "        100.     ,  69.     ,  28.51125,  28.8    , 100.     ,  67.     ,\n",
       "         28.8    ,  29.11125, 100.     ,  69.     ,  29.1225 ,  29.43375,\n",
       "        100.     ,  67.     ,  29.43375,  29.43375, 100.     ,  67.     ,\n",
       "         29.71125,  30.0225 , 100.     ,  64.     ,  30.0225 ,  30.6    ,\n",
       "        100.     ,  62.     ,  30.6225 ,  30.8775 , 100.     ,  62.     ,\n",
       "         30.8775 ,  31.2    , 100.     ,  64.     ]),\n",
       " array([  2.4 ,   2.55,  78.  ,  60.  ,   2.7 ,   2.85,  75.  ,  64.  ,\n",
       "          3.  ,   3.15,  73.  ,  67.  ,   3.3 ,   3.45,  69.  ,  64.  ,\n",
       "          4.8 ,   4.95,  74.  ,  60.  ,   5.1 ,   5.25,  86.  ,  65.  ,\n",
       "          5.4 ,   5.55,  54.  ,  69.  ,   5.7 ,   5.85,  98.  ,  65.  ,\n",
       "          6.  ,   6.15,  76.  ,  60.  ,   6.3 ,   6.45,  86.  ,  64.  ,\n",
       "          6.6 ,   6.75,  72.  ,  69.  ,   6.9 ,   7.05,  83.  ,  64.  ,\n",
       "          7.2 ,   7.35,  73.  ,  59.  ,   7.5 ,   7.65,  61.  ,  62.  ,\n",
       "          7.8 ,   7.95,  54.  ,  67.  ,   8.1 ,   8.25,  78.  ,  62.  ,\n",
       "          9.6 ,   9.75,  60.  ,  62.  ,   9.9 ,  10.05,  56.  ,  65.  ,\n",
       "         10.2 ,  10.35,  52.  ,  69.  ,  10.5 ,  10.65,  77.  ,  65.  ,\n",
       "         10.8 ,  10.95,  75.  ,  62.  ,  11.1 ,  11.25,  74.  ,  67.  ,\n",
       "         11.4 ,  11.55,  57.  ,  71.  ,  11.7 ,  11.85,  78.  ,  67.  ,\n",
       "         12.  ,  12.15,  71.  ,  60.  ,  12.3 ,  12.45,  81.  ,  64.  ,\n",
       "         12.6 ,  12.75,  69.  ,  69.  ,  12.9 ,  13.05,  96.  ,  64.  ,\n",
       "         13.2 ,  13.35,  72.  ,  59.  ,  13.5 ,  13.65,  69.  ,  62.  ,\n",
       "         13.8 ,  13.8 ,  41.  ,  65.  ,  13.8 ,  13.95,  45.  ,  67.  ,\n",
       "         14.1 ,  14.25,  78.  ,  59.  ,  14.4 ,  14.55,  72.  ,  60.  ,\n",
       "         14.7 ,  14.85,  76.  ,  65.  ,  15.  ,  15.15,  66.  ,  69.  ,\n",
       "         15.3 ,  15.45, 105.  ,  65.  ,  15.6 ,  15.75,  83.  ,  59.  ,\n",
       "         15.9 ,  16.05,  98.  ,  64.  ,  16.2 ,  16.35,  82.  ,  67.  ,\n",
       "         16.5 ,  16.65, 105.  ,  64.  ,  19.2 ,  19.35,  86.  ,  59.  ,\n",
       "         19.5 ,  19.65,  98.  ,  62.  ,  19.8 ,  19.95,  93.  ,  67.  ,\n",
       "         20.4 ,  20.55, 100.  ,  71.  ,  21.  ,  21.15, 107.  ,  72.  ,\n",
       "         21.3 ,  21.45,  76.  ,  71.  ,  21.6 ,  21.75,  78.  ,  60.  ,\n",
       "         21.9 ,  22.05,  75.  ,  64.  ,  22.2 ,  22.35,  73.  ,  67.  ,\n",
       "         22.5 ,  22.65,  69.  ,  64.  ,  24.  ,  24.15,  74.  ,  60.  ,\n",
       "         24.3 ,  24.45,  86.  ,  65.  ,  24.6 ,  24.75,  54.  ,  69.  ,\n",
       "         24.9 ,  25.05,  98.  ,  65.  ,  25.2 ,  25.35,  76.  ,  60.  ,\n",
       "         25.5 ,  25.65,  86.  ,  64.  ,  25.8 ,  25.95,  72.  ,  69.  ,\n",
       "         26.1 ,  26.25,  83.  ,  64.  ,  28.8 ,  28.95,  60.  ,  62.  ,\n",
       "         29.1 ,  29.25,  56.  ,  65.  ,  29.4 ,  29.55,  52.  ,  69.  ,\n",
       "         29.7 ,  29.85,  77.  ,  65.  ,  30.  ,  30.15,  75.  ,  62.  ,\n",
       "         30.3 ,  30.45,  74.  ,  67.  ,  30.6 ,  30.75,  57.  ,  71.  ,\n",
       "         30.9 ,  31.05,  78.  ,  67.  ]),\n",
       " array([ 2.4 ,  2.4 , 73.  , 60.  ,  2.4 ,  3.  , 95.  , 64.  ,  3.3 ,\n",
       "         4.35, 75.  , 64.  ,  4.35,  4.35, 62.  , 60.  ,  4.8 ,  4.8 ,\n",
       "        69.  , 60.  ,  4.8 ,  5.55, 77.  , 65.  ,  5.7 ,  5.7 , 63.  ,\n",
       "        60.  ,  5.7 ,  6.9 , 86.  , 64.  ,  7.2 ,  7.95, 95.  , 64.  ,\n",
       "         8.1 ,  9.3 , 63.  , 64.  ,  9.6 , 10.2 , 87.  , 65.  , 10.2 ,\n",
       "        10.35, 83.  , 62.  , 10.8 , 11.55, 75.  , 67.  , 11.55, 11.7 ,\n",
       "        72.  , 62.  , 12.  , 12.  , 58.  , 60.  , 12.  , 12.9 , 65.  ,\n",
       "        69.  , 12.9 , 12.9 , 58.  , 64.  , 14.4 , 15.15, 98.  , 65.  ,\n",
       "        15.15, 15.15, 82.  , 60.  , 15.6 , 16.5 , 90.  , 64.  , 16.5 ,\n",
       "        16.5 , 81.  , 59.  , 16.8 , 18.6 , 72.  , 65.  , 18.6 , 18.6 ,\n",
       "        84.  , 62.  , 19.2 , 19.2 , 64.  , 62.  , 19.2 , 21.6 , 72.  ,\n",
       "        67.  , 21.6 , 22.2 , 95.  , 64.  , 22.2 , 22.2 , 73.  , 60.  ,\n",
       "        22.5 , 22.5 , 62.  , 60.  , 22.5 , 23.55, 75.  , 64.  , 24.  ,\n",
       "        24.75, 77.  , 65.  , 24.75, 24.75, 69.  , 60.  , 24.9 , 24.9 ,\n",
       "        63.  , 60.  , 24.9 , 26.1 , 86.  , 64.  , 26.4 , 27.15, 95.  ,\n",
       "        64.  , 27.15, 27.15, 75.  , 59.  , 27.3 , 28.5 , 63.  , 64.  ,\n",
       "        28.5 , 28.5 , 72.  , 60.  , 28.8 , 29.4 , 87.  , 65.  , 29.4 ,\n",
       "        29.55, 83.  , 62.  , 30.  , 30.75, 75.  , 67.  , 30.75, 30.9 ,\n",
       "        72.  , 62.  ]),\n",
       " array([  2.4 ,   3.3 ,  83.  ,  36.  ,   3.3 ,   3.45,  64.  ,  31.  ,\n",
       "          3.6 ,   3.75,  74.  ,  36.  ,   3.9 ,   4.5 ,  87.  ,  36.  ,\n",
       "          4.5 ,   4.65,  98.  ,  31.  ,   4.8 ,   5.55,  83.  ,  29.  ,\n",
       "          5.7 ,   5.85,  92.  ,  29.  ,   6.  ,   6.6 , 109.  ,  33.  ,\n",
       "          6.9 ,   7.2 , 113.  ,  33.  ,   7.2 ,   7.8 ,  95.  ,  28.  ,\n",
       "          8.1 ,   8.4 , 100.  ,  28.  ,   8.4 ,   9.  , 114.  ,  33.  ,\n",
       "          9.3 ,   9.45, 114.  ,  33.  ,   9.6 ,  10.2 , 107.  ,  26.  ,\n",
       "         10.5 ,  10.65,  87.  ,  26.  ,  10.8 ,  11.4 , 107.  ,  31.  ,\n",
       "         11.7 ,  11.85, 109.  ,  31.  ,  12.  ,  12.6 , 107.  ,  33.  ,\n",
       "         12.9 ,  13.05, 114.  ,  33.  ,  13.2 ,  13.95, 121.  ,  31.  ,\n",
       "         14.1 ,  14.25, 113.  ,  31.  ,  14.4 ,  15.15, 108.  ,  29.  ,\n",
       "         15.3 ,  15.6 , 108.  ,  29.  ,  15.6 ,  16.35, 112.  ,  28.  ,\n",
       "         16.5 ,  16.65, 110.  ,  28.  ,  16.8 ,  17.55, 100.  ,  26.  ,\n",
       "         17.7 ,  17.85,  93.  ,  26.  ,  18.  ,  18.6 , 112.  ,  26.  ,\n",
       "         18.9 ,  19.05, 109.  ,  26.  ,  19.2 ,  19.95, 114.  ,  31.  ,\n",
       "         20.1 ,  20.25, 112.  ,  31.  ,  20.4 ,  21.6 , 117.  ,  31.  ,\n",
       "         21.6 ,  22.5 ,  83.  ,  36.  ,  22.5 ,  22.65,  64.  ,  31.  ,\n",
       "         22.8 ,  22.95,  74.  ,  36.  ,  23.1 ,  23.7 ,  87.  ,  36.  ,\n",
       "         23.7 ,  23.85,  98.  ,  31.  ,  24.  ,  24.75,  83.  ,  29.  ,\n",
       "         24.9 ,  25.05,  92.  ,  29.  ,  25.2 ,  25.8 , 109.  ,  33.  ,\n",
       "         26.1 ,  26.4 , 113.  ,  33.  ,  26.4 ,  27.  ,  95.  ,  28.  ,\n",
       "         27.3 ,  27.6 , 100.  ,  28.  ,  27.6 ,  28.2 , 114.  ,  33.  ,\n",
       "         28.5 ,  28.65, 114.  ,  33.  ,  28.8 ,  29.4 , 107.  ,  26.  ,\n",
       "         29.7 ,  29.85,  87.  ,  26.  ,  30.  ,  30.6 , 107.  ,  31.  ,\n",
       "         30.9 ,  31.05, 109.  ,  31.  ]),\n",
       " array([ 2.4 ,  4.2 , 72.  , 67.  ,  4.2 ,  4.2 , 86.  , 64.  ,  2.4 ,\n",
       "         4.5 , 82.  , 60.  ,  4.8 ,  4.8 , 95.  , 65.  ,  4.8 ,  5.7 ,\n",
       "        75.  , 69.  ,  6.  ,  6.9 , 72.  , 69.  ,  6.9 ,  6.9 , 69.  ,\n",
       "        64.  ,  4.8 ,  6.9 , 75.  , 60.  ,  7.2 ,  7.2 , 65.  , 62.  ,\n",
       "         7.2 ,  7.8 , 54.  , 67.  ,  7.8 ,  7.8 , 59.  , 59.  ,  8.4 ,\n",
       "         9.15, 74.  , 64.  ,  9.15,  9.15, 65.  , 60.  ,  8.4 ,  9.15,\n",
       "        65.  , 69.  ,  9.6 ,  9.6 , 78.  , 65.  ,  9.6 , 10.2 , 59.  ,\n",
       "        69.  , 10.2 , 10.5 , 64.  , 62.  , 10.8 , 11.55, 68.  , 67.  ,\n",
       "        11.55, 11.55, 67.  , 62.  , 10.8 , 11.55, 61.  , 71.  , 12.  ,\n",
       "        12.9 , 67.  , 69.  , 12.9 , 13.05, 84.  , 64.  , 12.  , 13.05,\n",
       "        66.  , 60.  , 14.4 , 15.  , 62.  , 69.  , 15.  , 15.  , 69.  ,\n",
       "        65.  , 14.4 , 15.15, 59.  , 60.  , 15.6 , 16.35, 60.  , 67.  ,\n",
       "        16.35, 16.35, 57.  , 59.  , 15.6 , 16.35, 73.  , 64.  , 16.8 ,\n",
       "        16.8 , 71.  , 65.  , 16.8 , 18.  , 54.  , 69.  , 18.  , 18.  ,\n",
       "        70.  , 62.  , 19.2 , 21.45, 78.  , 71.  , 21.45, 21.45, 88.  ,\n",
       "        67.  , 19.2 , 21.45, 74.  , 62.  , 21.6 , 21.6 , 86.  , 64.  ,\n",
       "        21.6 , 23.4 , 72.  , 67.  , 23.4 , 23.7 , 82.  , 60.  , 24.  ,\n",
       "        24.9 , 75.  , 69.  , 24.9 , 24.9 , 95.  , 65.  , 24.  , 25.2 ,\n",
       "        75.  , 60.  , 25.2 , 25.2 , 69.  , 64.  , 25.2 , 26.1 , 72.  ,\n",
       "        69.  , 26.4 , 27.  , 54.  , 67.  , 27.  , 27.  , 59.  , 59.  ,\n",
       "        26.4 , 27.  , 65.  , 62.  , 27.6 , 27.6 , 65.  , 60.  , 27.6 ,\n",
       "        27.6 , 74.  , 64.  , 27.6 , 28.35, 65.  , 69.  , 28.8 , 28.8 ,\n",
       "        78.  , 65.  , 28.8 , 29.4 , 59.  , 69.  , 29.4 , 29.7 , 64.  ,\n",
       "        62.  , 30.  , 30.  , 68.  , 67.  , 30.  , 30.75, 61.  , 71.  ,\n",
       "        30.75, 30.75, 67.  , 62.  ]),\n",
       " array([  2.45625,   2.46875,  39.     ,  64.     ,   2.46875,   4.62   ,\n",
       "         47.     ,  67.     ,   4.81375,   5.76375,  66.     ,  69.     ,\n",
       "          4.8075 ,   5.77625,  78.     ,  65.     ,   7.2075 ,   8.37375,\n",
       "         88.     ,  71.     ,   8.37375,   9.63   , 100.     ,  72.     ,\n",
       "          9.63   ,  10.80625,  98.     ,  74.     ,  10.80625,  12.01125,\n",
       "         88.     ,  79.     ,  12.01125,  12.8675 ,  93.     ,  81.     ,\n",
       "         12.97   ,  13.2275 ,  98.     ,  81.     ,  13.2275 ,  14.38875,\n",
       "         83.     ,  79.     ,  14.38875,  15.5875 ,  96.     ,  77.     ,\n",
       "         15.5875 ,  16.83125,  95.     ,  76.     ,  16.83125,  19.185  ,\n",
       "         96.     ,  74.     ,  19.185  ,  24.00625, 108.     ,  79.     ,\n",
       "         24.00625,  24.00625,  65.     ,  79.     ,  23.9675 ,  26.37125,\n",
       "         90.     ,  81.     ,  26.37625,  27.6525 , 102.     ,  79.     ,\n",
       "         27.6525 ,  27.6525 ,  88.     ,  79.     ,  27.61   ,  28.7975 ,\n",
       "         90.     ,  81.     ,  28.8125 ,  31.21   , 102.     ,  74.     ]),\n",
       " array([ 2.4 ,  2.4 , 54.  , 48.  ,  2.4 ,  4.65, 65.  , 52.  ,  4.8 ,\n",
       "         6.15, 60.  , 53.  ,  6.15,  6.15, 52.  , 48.  ,  7.2 ,  7.8 ,\n",
       "        59.  , 52.  ,  7.8 ,  7.8 , 62.  , 47.  ,  9.6 , 10.65, 40.  ,\n",
       "        53.  , 10.8 , 11.7 , 59.  , 55.  ,  9.6 , 11.7 , 48.  , 50.  ,\n",
       "        16.8 , 18.9 , 54.  , 57.  , 18.9 , 19.2 , 56.  , 50.  , 19.2 ,\n",
       "        21.3 , 58.  , 59.  , 21.6 , 21.6 , 46.  , 52.  , 21.6 , 23.85,\n",
       "        48.  , 60.  , 26.4 , 28.2 , 68.  , 59.  , 28.2 , 28.2 , 60.  ,\n",
       "        52.  , 28.8 , 29.55, 53.  , 57.  , 29.55, 29.55, 54.  , 53.  ,\n",
       "        30.  , 30.  , 51.  , 55.  , 30.  , 30.6 , 57.  , 59.  ]),\n",
       " array([ 17.72625,  17.7725 , 110.     ,  92.     ,  17.7725 ,  17.79875,\n",
       "        103.     ,  90.     ,  17.75875,  17.82625, 101.     ,  88.     ,\n",
       "         17.82625,  17.855  , 106.     ,  86.     ,  17.805  ,  17.87875,\n",
       "        103.     ,  85.     ,  17.87875,  17.90875,  98.     ,  83.     ,\n",
       "         17.85625,  17.93875,  95.     ,  81.     ,  17.93875,  17.97875,\n",
       "        106.     ,  80.     ,  17.92   ,  18.02   , 106.     ,  78.     ,\n",
       "         18.02   ,  18.06   ,  98.     ,  76.     ,  17.9975 ,  18.09875,\n",
       "        103.     ,  74.     ,  18.09875,  18.1375 ,  97.     ,  73.     ,\n",
       "         18.085  ,  18.175  , 100.     ,  71.     ,  18.175  ,  18.21625,\n",
       "        103.     ,  69.     ,  18.16375,  18.25875, 103.     ,  68.     ,\n",
       "         18.25875,  18.30125,  97.     ,  66.     ,  18.245  ,  18.34375,\n",
       "         93.     ,  64.     ,  18.34375,  18.38875,  93.     ,  62.     ,\n",
       "         18.3325 ,  18.43   ,  97.     ,  61.     ,  18.43   ,  18.46875,\n",
       "         91.     ,  59.     ,  18.425  ,  18.50625,  90.     ,  57.     ,\n",
       "         18.50625,  18.53125,  91.     ,  56.     ,  18.78875,  18.805  ,\n",
       "        100.     ,  57.     ,  18.805  ,  18.8375 , 110.     ,  59.     ,\n",
       "         18.8375 ,  18.87125,  93.     ,  61.     ,  18.87125,  18.91   ,\n",
       "         95.     ,  62.     ,  18.91   ,  18.94875,  98.     ,  64.     ,\n",
       "         18.94875,  18.97875,  98.     ,  66.     ,  18.97875,  19.01   ,\n",
       "         97.     ,  68.     ,  19.01   ,  19.04125,  97.     ,  69.     ,\n",
       "         19.04125,  19.07875,  97.     ,  71.     ,  19.07875,  19.11375,\n",
       "         87.     ,  73.     ,  19.11375,  19.1575 ,  90.     ,  74.     ,\n",
       "         19.1575 ,  19.19   ,  90.     ,  76.     ,  19.19   ,  19.2325 ,\n",
       "         90.     ,  78.     ,  19.2325 ,  19.2775 ,  93.     ,  80.     ,\n",
       "         19.2775 ,  19.32375,  90.     ,  81.     ,  19.32375,  19.375  ,\n",
       "         83.     ,  83.     ,  19.375  ,  19.43375,  73.     ,  85.     ,\n",
       "         19.43375,  19.485  ,  95.     ,  86.     ,  19.485  ,  19.5325 ,\n",
       "         97.     ,  88.     ,  19.5325 ,  19.55625, 104.     ,  90.     ,\n",
       "         19.57375,  19.605  ,  78.     ,  92.     ])]"
      ]
     },
     "execution_count": 6,
     "metadata": {},
     "output_type": "execute_result"
    }
   ],
   "source": [
    "def allSkyline(s):\n",
    "    a = []\n",
    "    for i in range(len(s)):\n",
    "        a.append(skyline(s[i]))\n",
    "    return a\n",
    "\n",
    "simple_data = allSkyline(train_data)\n",
    "simple_data\n",
    "        "
   ]
  },
  {
   "cell_type": "code",
   "execution_count": 7,
   "metadata": {},
   "outputs": [
    {
     "data": {
      "text/plain": [
       "(8, 128)"
      ]
     },
     "execution_count": 7,
     "metadata": {},
     "output_type": "execute_result"
    }
   ],
   "source": [
    "#初始化音高向量\n",
    "h=np.zeros((len(simple_data),128),dtype = int)\n",
    "h.shape"
   ]
  },
  {
   "cell_type": "markdown",
   "metadata": {},
   "source": [
    "取出音高求取音高分布"
   ]
  },
  {
   "cell_type": "code",
   "execution_count": 8,
   "metadata": {},
   "outputs": [
    {
     "name": "stdout",
     "output_type": "stream",
     "text": [
      "Counter({70: 25, 68: 19, 73: 12, 65: 7, 63: 7, 75: 4, 61: 3, 58: 1, 77: 1})\n"
     ]
    }
   ],
   "source": [
    "from collections import Counter\n",
    "#先变为整型\n",
    "def getPitchInt(a):\n",
    "    s = []\n",
    "    for j in range(len(a)):\n",
    "        if (j%4==3):\n",
    "            s.append(a[j]+1)\n",
    "    n = np.array(s,dtype = int)\n",
    "\n",
    "    return n\n",
    "pitch_int = getPitchInt(simple_data[0])\n",
    "print(Counter(pitch_int))\n"
   ]
  },
  {
   "cell_type": "code",
   "execution_count": 9,
   "metadata": {},
   "outputs": [
    {
     "name": "stdout",
     "output_type": "stream",
     "text": [
      "[  1.48875   1.8     100.       67.        1.81125   2.1     100.\n",
      "  67.        2.1       2.4     100.       69.        2.4       2.71125\n",
      " 100.       74.        2.71125   3.0225  100.       72.        3.0225\n",
      "   3.33375 100.       72.        3.33375   3.61125 100.       69.\n",
      "   3.61125   3.9225  100.       72.        4.2       4.51125 100.\n",
      "  69.        4.51125   4.8     100.       67.        4.8       5.11125\n",
      " 100.       69.        5.11125   5.4225  100.       69.        5.4225\n",
      "   5.68875 100.       67.        5.68875   6.      100.       69.\n",
      "   6.01125   6.6     100.       69.        6.6       6.9     100.\n",
      "  67.        6.9       7.2     100.       69.        7.2       7.51125\n",
      " 100.       74.        7.5225    7.83375 100.       72.        7.83375\n",
      "   7.83375 100.       72.        8.11125   8.4     100.       69.\n",
      "   8.4       9.      100.       72.        9.        9.31125 100.\n",
      "  69.        9.31125   9.6     100.       67.        9.6       9.91125\n",
      " 100.       69.        9.9225   10.23375 100.       67.       10.23375\n",
      "  10.23375 100.       67.       10.51125  10.8225  100.       64.\n",
      "  10.8225   11.4     100.       62.       11.4225   11.6775  100.\n",
      "  62.       11.6775   12.      100.       64.       12.       12.9\n",
      " 100.       60.       12.91125  13.2     100.       57.       13.2\n",
      "  14.0775  100.       60.       14.0775   14.4     100.       69.\n",
      "  14.435    14.7575  100.       69.       14.7575   15.      100.\n",
      "  67.       15.01125  15.28875 100.       67.       15.3      15.6\n",
      " 100.       64.       15.6225   16.2     100.       64.       16.2\n",
      "  16.48875 100.       62.       16.48875  16.78875 100.       64.\n",
      "  16.81125  17.7     100.       62.       17.7      18.      100.\n",
      "  60.       18.035    18.6     100.       62.       18.61125  19.17625\n",
      " 100.       69.       19.1775   19.48875 100.       76.       19.48875\n",
      "  20.4     100.       67.       20.68875  21.      100.       67.\n",
      "  21.0225   21.3225  100.       67.       21.3225   21.6     100.\n",
      "  69.       21.6      21.91125 100.       74.       21.91125  22.2225\n",
      " 100.       72.       22.2225   22.53375 100.       72.       22.53375\n",
      "  22.81125 100.       69.       22.81125  23.1225  100.       72.\n",
      "  23.4      23.71125 100.       69.       23.71125  24.      100.\n",
      "  67.       24.       24.31125 100.       69.       24.31125  24.6225\n",
      " 100.       69.       24.6225   24.88875 100.       67.       24.88875\n",
      "  25.2     100.       69.       25.21125  25.8     100.       69.\n",
      "  25.8      26.1     100.       67.       26.1      26.4     100.\n",
      "  69.       26.4      26.71125 100.       74.       26.7225   27.03375\n",
      " 100.       72.       27.03375  27.03375 100.       72.       27.31125\n",
      "  27.6     100.       69.       27.6      28.2     100.       72.\n",
      "  28.2      28.51125 100.       69.       28.51125  28.8     100.\n",
      "  67.       28.8      29.11125 100.       69.       29.1225   29.43375\n",
      " 100.       67.       29.43375  29.43375 100.       67.       29.71125\n",
      "  30.0225  100.       64.       30.0225   30.6     100.       62.\n",
      "  30.6225   30.8775  100.       62.       30.8775   31.2     100.\n",
      "  64.     ]\n"
     ]
    },
    {
     "data": {
      "text/plain": [
       "array([ 0,  0,  0,  0,  0,  0,  0,  0,  0,  0,  0,  0,  0,  0,  0,  0,  0,\n",
       "        0,  0,  0,  0,  0,  0,  0,  0,  0,  0,  0,  0,  0,  0,  0,  0,  0,\n",
       "        0,  0,  0,  0,  0,  0,  0,  0,  0,  0,  0,  0,  0,  0,  0,  0,  0,\n",
       "        0,  0,  0,  0,  0,  0,  1,  0,  0,  3,  0,  7,  0,  7,  0,  0, 19,\n",
       "        0, 25,  0,  0, 12,  0,  4,  0,  1,  0,  0,  0,  0,  0,  0,  0,  0,\n",
       "        0,  0,  0,  0,  0,  0,  0,  0,  0,  0,  0,  0,  0,  0,  0,  0,  0,\n",
       "        0,  0,  0,  0,  0,  0,  0,  0,  0,  0,  0,  0,  0,  0,  0,  0,  0,\n",
       "        0,  0,  0,  0,  0,  0,  0,  0,  0])"
      ]
     },
     "execution_count": 9,
     "metadata": {},
     "output_type": "execute_result"
    }
   ],
   "source": [
    "#统计音高出现次数\n",
    "def getPitch(simple_data,h):\n",
    "    s = []\n",
    "    for i in range(1,129):\n",
    "        for j in range (len(simple_data)):\n",
    "             if ((j%4==3)&((simple_data[j]+1)==i)):\n",
    "                h[i-1]=h[i-1]+1\n",
    "    return h\n",
    "h[0] = getPitch(simple_data[0],h[0])\n",
    "print(simple_data[0])\n",
    "h[0]\n"
   ]
  },
  {
   "cell_type": "code",
   "execution_count": 10,
   "metadata": {},
   "outputs": [
    {
     "data": {
      "text/plain": [
       "array([[0, 0, 0, ..., 0, 0, 0],\n",
       "       [0, 0, 0, ..., 0, 0, 0],\n",
       "       [0, 0, 0, ..., 0, 0, 0],\n",
       "       ...,\n",
       "       [0, 0, 0, ..., 0, 0, 0],\n",
       "       [0, 0, 0, ..., 0, 0, 0],\n",
       "       [0, 0, 0, ..., 0, 0, 0]])"
      ]
     },
     "execution_count": 10,
     "metadata": {},
     "output_type": "execute_result"
    }
   ],
   "source": [
    "#生成音高向量 值为每个音符在不同音轨中出现的次数\n",
    "\n",
    "def pitchVec(a,h):\n",
    "    for i in range(len(a)):\n",
    "        w = getPitchInt(a[i])\n",
    "        h[i] = getPitch(a[i],h[i])\n",
    "    return h\n",
    "\n",
    "h= pitchVec(simple_data,h)\n",
    "k = []\n",
    "for j in range(len(h)):\n",
    "    k.append(j)\n",
    "labels= np.array(k)\n",
    "labels  \n",
    "h"
   ]
  },
  {
   "cell_type": "markdown",
   "metadata": {},
   "source": [
    "h_i 第i个音轨的音高分布向量\n",
    "\n",
    "h_average 平均音高分布向量 =（h_1_averang,...,h_12_averang）\n",
    "\n",
    "h_i_average 音符为i 在每个音轨中出现的平均次数 T为音轨数 h_i_average = h_k(1——T)_i（累加）/T \n",
    "\n",
    "h_wi_average 音符为i 在每个音轨中出现的次数的加权平均值   h_wi_average = h_k(1——T)_i*fk\n",
    "\n",
    "h_w_average 加权平均分布   \n",
    "\n",
    "fk 某个音轨音符数/音符总数"
   ]
  },
  {
   "cell_type": "code",
   "execution_count": 11,
   "metadata": {},
   "outputs": [
    {
     "data": {
      "text/plain": [
       "array([0.   , 0.   , 0.   , 0.   , 0.   , 0.   , 0.   , 0.   , 0.   ,\n",
       "       0.   , 0.   , 0.   , 0.   , 0.   , 0.   , 0.   , 0.   , 0.   ,\n",
       "       0.   , 0.   , 0.   , 0.   , 0.   , 0.   , 0.   , 0.   , 1.   ,\n",
       "       0.   , 0.75 , 0.75 , 0.   , 1.625, 0.   , 1.25 , 0.   , 0.   ,\n",
       "       0.75 , 0.   , 0.   , 0.   , 0.   , 0.   , 0.   , 0.   , 0.   ,\n",
       "       0.   , 0.   , 0.125, 0.25 , 0.   , 0.25 , 0.   , 0.5  , 0.375,\n",
       "       0.   , 0.25 , 0.125, 0.75 , 0.   , 1.875, 4.25 , 0.25 , 4.75 ,\n",
       "       0.   , 6.125, 3.   , 0.25 , 7.5  , 0.25 , 9.125, 0.   , 1.25 ,\n",
       "       3.25 , 0.25 , 1.625, 0.   , 0.625, 0.125, 0.25 , 0.75 , 0.25 ,\n",
       "       0.75 , 0.   , 0.25 , 0.   , 0.25 , 0.25 , 0.   , 0.25 , 0.   ,\n",
       "       0.25 , 0.   , 0.25 , 0.   , 0.   , 0.   , 0.   , 0.   , 0.   ,\n",
       "       0.   , 0.   , 0.   , 0.   , 0.   , 0.   , 0.   , 0.   , 0.   ,\n",
       "       0.   , 0.   , 0.   , 0.   , 0.   , 0.   , 0.   , 0.   , 0.   ,\n",
       "       0.   , 0.   , 0.   , 0.   , 0.   , 0.   , 0.   , 0.   , 0.   ,\n",
       "       0.   , 0.   ])"
      ]
     },
     "execution_count": 11,
     "metadata": {},
     "output_type": "execute_result"
    }
   ],
   "source": [
    "h_average= np.average(h,axis=0)\n",
    "h_average"
   ]
  },
  {
   "cell_type": "code",
   "execution_count": 12,
   "metadata": {},
   "outputs": [
    {
     "name": "stdout",
     "output_type": "stream",
     "text": [
      "454\n"
     ]
    },
    {
     "data": {
      "text/plain": [
       "array([0.34801762, 0.14757709, 0.09030837, 0.10792952, 0.12114537,\n",
       "       0.04625551, 0.04405286, 0.09471366])"
      ]
     },
     "execution_count": 12,
     "metadata": {},
     "output_type": "execute_result"
    }
   ],
   "source": [
    "#求fk pitch_num of 音轨i /all pitchs\n",
    "def get_fk(h):\n",
    "    ff=[]\n",
    "    m=0\n",
    "    pitchsum = np.sum(h)\n",
    "    print(pitchsum)\n",
    "    for i in range(len(simple_data)):\n",
    "        m=(np.sum(h[i]))/pitchsum\n",
    "        ff.append(m)\n",
    "    fk= np.array(ff)\n",
    "    return fk\n",
    "fk = get_fk(h)\n",
    "fk"
   ]
  },
  {
   "cell_type": "code",
   "execution_count": 13,
   "metadata": {},
   "outputs": [
    {
     "data": {
      "text/plain": [
       "array([ 0.        ,  0.        ,  0.        ,  0.        ,  0.        ,\n",
       "        0.        ,  0.        ,  0.        ,  0.        ,  0.        ,\n",
       "        0.        ,  0.        ,  0.        ,  0.        ,  0.        ,\n",
       "        0.        ,  0.        ,  0.        ,  0.        ,  0.        ,\n",
       "        0.        ,  0.        ,  0.        ,  0.        ,  0.        ,\n",
       "        0.        ,  0.86343612,  0.        ,  0.64757709,  0.64757709,\n",
       "        0.        ,  1.4030837 ,  0.        ,  1.07929515,  0.        ,\n",
       "        0.        ,  0.64757709,  0.        ,  0.        ,  0.        ,\n",
       "        0.        ,  0.        ,  0.        ,  0.        ,  0.        ,\n",
       "        0.        ,  0.        ,  0.04405286,  0.08810573,  0.        ,\n",
       "        0.08810573,  0.        ,  0.17621145,  0.13215859,  0.        ,\n",
       "        0.08810573,  0.09471366,  0.97356828,  0.        ,  1.60352423,\n",
       "        5.2753304 ,  0.18942731,  7.75330396,  0.        ,  8.93171806,\n",
       "        2.93832599,  0.18942731, 15.98678414,  0.18942731, 20.24008811,\n",
       "        0.        ,  1.18942731,  8.54625551,  0.18942731,  3.1123348 ,\n",
       "        0.        ,  0.93171806,  0.04625551,  0.18942731,  0.27753304,\n",
       "        0.18942731,  0.37444934,  0.        ,  0.18942731,  0.        ,\n",
       "        0.18942731,  0.18942731,  0.        ,  0.18942731,  0.        ,\n",
       "        0.18942731,  0.        ,  0.18942731,  0.        ,  0.        ,\n",
       "        0.        ,  0.        ,  0.        ,  0.        ,  0.        ,\n",
       "        0.        ,  0.        ,  0.        ,  0.        ,  0.        ,\n",
       "        0.        ,  0.        ,  0.        ,  0.        ,  0.        ,\n",
       "        0.        ,  0.        ,  0.        ,  0.        ,  0.        ,\n",
       "        0.        ,  0.        ,  0.        ,  0.        ,  0.        ,\n",
       "        0.        ,  0.        ,  0.        ,  0.        ,  0.        ,\n",
       "        0.        ,  0.        ,  0.        ])"
      ]
     },
     "execution_count": 13,
     "metadata": {},
     "output_type": "execute_result"
    }
   ],
   "source": [
    "h_w_average= np.average(h, axis = 0 ,weights = fk)\n",
    "h_w_average"
   ]
  },
  {
   "cell_type": "code",
   "execution_count": 14,
   "metadata": {},
   "outputs": [
    {
     "name": "stdout",
     "output_type": "stream",
     "text": [
      "15.646089621432155\n"
     ]
    },
    {
     "data": {
      "text/plain": [
       "15.646089621432157"
      ]
     },
     "execution_count": 14,
     "metadata": {},
     "output_type": "execute_result"
    }
   ],
   "source": [
    "# 计算h_average和h_w_average向量之间的欧氏距离，欧氏距离计算如下： \n",
    "dist1 = np.sqrt(np.sum(np.square(h_w_average- h_average)))\n",
    "print(dist1)\n",
    "dist2 = np.linalg.norm(h_w_average- h_average)\n",
    "dist2"
   ]
  },
  {
   "cell_type": "code",
   "execution_count": 15,
   "metadata": {},
   "outputs": [
    {
     "data": {
      "text/plain": [
       "7.823044810716078"
      ]
     },
     "execution_count": 15,
     "metadata": {},
     "output_type": "execute_result"
    }
   ],
   "source": [
    "#层次聚类终止算法的阈值t\n",
    "t = dist1/2\n",
    "t"
   ]
  },
  {
   "cell_type": "code",
   "execution_count": 32,
   "metadata": {},
   "outputs": [
    {
     "data": {
      "text/html": [
       "<div>\n",
       "<style scoped>\n",
       "    .dataframe tbody tr th:only-of-type {\n",
       "        vertical-align: middle;\n",
       "    }\n",
       "\n",
       "    .dataframe tbody tr th {\n",
       "        vertical-align: top;\n",
       "    }\n",
       "\n",
       "    .dataframe thead th {\n",
       "        text-align: right;\n",
       "    }\n",
       "</style>\n",
       "<table border=\"1\" class=\"dataframe\">\n",
       "  <thead>\n",
       "    <tr style=\"text-align: right;\">\n",
       "      <th></th>\n",
       "      <th>0</th>\n",
       "      <th>1</th>\n",
       "      <th>2</th>\n",
       "      <th>3</th>\n",
       "      <th>4</th>\n",
       "      <th>5</th>\n",
       "      <th>6</th>\n",
       "      <th>7</th>\n",
       "      <th>8</th>\n",
       "      <th>9</th>\n",
       "      <th>...</th>\n",
       "      <th>118</th>\n",
       "      <th>119</th>\n",
       "      <th>120</th>\n",
       "      <th>121</th>\n",
       "      <th>122</th>\n",
       "      <th>123</th>\n",
       "      <th>124</th>\n",
       "      <th>125</th>\n",
       "      <th>126</th>\n",
       "      <th>127</th>\n",
       "    </tr>\n",
       "  </thead>\n",
       "  <tbody>\n",
       "    <tr>\n",
       "      <th>0</th>\n",
       "      <td>0</td>\n",
       "      <td>0</td>\n",
       "      <td>0</td>\n",
       "      <td>0</td>\n",
       "      <td>0</td>\n",
       "      <td>0</td>\n",
       "      <td>0</td>\n",
       "      <td>0</td>\n",
       "      <td>0</td>\n",
       "      <td>0</td>\n",
       "      <td>...</td>\n",
       "      <td>0</td>\n",
       "      <td>0</td>\n",
       "      <td>0</td>\n",
       "      <td>0</td>\n",
       "      <td>0</td>\n",
       "      <td>0</td>\n",
       "      <td>0</td>\n",
       "      <td>0</td>\n",
       "      <td>0</td>\n",
       "      <td>0</td>\n",
       "    </tr>\n",
       "    <tr>\n",
       "      <th>1</th>\n",
       "      <td>0</td>\n",
       "      <td>0</td>\n",
       "      <td>0</td>\n",
       "      <td>0</td>\n",
       "      <td>0</td>\n",
       "      <td>0</td>\n",
       "      <td>0</td>\n",
       "      <td>0</td>\n",
       "      <td>0</td>\n",
       "      <td>0</td>\n",
       "      <td>...</td>\n",
       "      <td>0</td>\n",
       "      <td>0</td>\n",
       "      <td>0</td>\n",
       "      <td>0</td>\n",
       "      <td>0</td>\n",
       "      <td>0</td>\n",
       "      <td>0</td>\n",
       "      <td>0</td>\n",
       "      <td>0</td>\n",
       "      <td>0</td>\n",
       "    </tr>\n",
       "    <tr>\n",
       "      <th>2</th>\n",
       "      <td>0</td>\n",
       "      <td>0</td>\n",
       "      <td>0</td>\n",
       "      <td>0</td>\n",
       "      <td>0</td>\n",
       "      <td>0</td>\n",
       "      <td>0</td>\n",
       "      <td>0</td>\n",
       "      <td>0</td>\n",
       "      <td>0</td>\n",
       "      <td>...</td>\n",
       "      <td>0</td>\n",
       "      <td>0</td>\n",
       "      <td>0</td>\n",
       "      <td>0</td>\n",
       "      <td>0</td>\n",
       "      <td>0</td>\n",
       "      <td>0</td>\n",
       "      <td>0</td>\n",
       "      <td>0</td>\n",
       "      <td>0</td>\n",
       "    </tr>\n",
       "    <tr>\n",
       "      <th>3</th>\n",
       "      <td>0</td>\n",
       "      <td>0</td>\n",
       "      <td>0</td>\n",
       "      <td>0</td>\n",
       "      <td>0</td>\n",
       "      <td>0</td>\n",
       "      <td>0</td>\n",
       "      <td>0</td>\n",
       "      <td>0</td>\n",
       "      <td>0</td>\n",
       "      <td>...</td>\n",
       "      <td>0</td>\n",
       "      <td>0</td>\n",
       "      <td>0</td>\n",
       "      <td>0</td>\n",
       "      <td>0</td>\n",
       "      <td>0</td>\n",
       "      <td>0</td>\n",
       "      <td>0</td>\n",
       "      <td>0</td>\n",
       "      <td>0</td>\n",
       "    </tr>\n",
       "    <tr>\n",
       "      <th>4</th>\n",
       "      <td>0</td>\n",
       "      <td>0</td>\n",
       "      <td>0</td>\n",
       "      <td>0</td>\n",
       "      <td>0</td>\n",
       "      <td>0</td>\n",
       "      <td>0</td>\n",
       "      <td>0</td>\n",
       "      <td>0</td>\n",
       "      <td>0</td>\n",
       "      <td>...</td>\n",
       "      <td>0</td>\n",
       "      <td>0</td>\n",
       "      <td>0</td>\n",
       "      <td>0</td>\n",
       "      <td>0</td>\n",
       "      <td>0</td>\n",
       "      <td>0</td>\n",
       "      <td>0</td>\n",
       "      <td>0</td>\n",
       "      <td>0</td>\n",
       "    </tr>\n",
       "    <tr>\n",
       "      <th>5</th>\n",
       "      <td>0</td>\n",
       "      <td>0</td>\n",
       "      <td>0</td>\n",
       "      <td>0</td>\n",
       "      <td>0</td>\n",
       "      <td>0</td>\n",
       "      <td>0</td>\n",
       "      <td>0</td>\n",
       "      <td>0</td>\n",
       "      <td>0</td>\n",
       "      <td>...</td>\n",
       "      <td>0</td>\n",
       "      <td>0</td>\n",
       "      <td>0</td>\n",
       "      <td>0</td>\n",
       "      <td>0</td>\n",
       "      <td>0</td>\n",
       "      <td>0</td>\n",
       "      <td>0</td>\n",
       "      <td>0</td>\n",
       "      <td>0</td>\n",
       "    </tr>\n",
       "    <tr>\n",
       "      <th>6</th>\n",
       "      <td>0</td>\n",
       "      <td>0</td>\n",
       "      <td>0</td>\n",
       "      <td>0</td>\n",
       "      <td>0</td>\n",
       "      <td>0</td>\n",
       "      <td>0</td>\n",
       "      <td>0</td>\n",
       "      <td>0</td>\n",
       "      <td>0</td>\n",
       "      <td>...</td>\n",
       "      <td>0</td>\n",
       "      <td>0</td>\n",
       "      <td>0</td>\n",
       "      <td>0</td>\n",
       "      <td>0</td>\n",
       "      <td>0</td>\n",
       "      <td>0</td>\n",
       "      <td>0</td>\n",
       "      <td>0</td>\n",
       "      <td>0</td>\n",
       "    </tr>\n",
       "    <tr>\n",
       "      <th>7</th>\n",
       "      <td>0</td>\n",
       "      <td>0</td>\n",
       "      <td>0</td>\n",
       "      <td>0</td>\n",
       "      <td>0</td>\n",
       "      <td>0</td>\n",
       "      <td>0</td>\n",
       "      <td>0</td>\n",
       "      <td>0</td>\n",
       "      <td>0</td>\n",
       "      <td>...</td>\n",
       "      <td>0</td>\n",
       "      <td>0</td>\n",
       "      <td>0</td>\n",
       "      <td>0</td>\n",
       "      <td>0</td>\n",
       "      <td>0</td>\n",
       "      <td>0</td>\n",
       "      <td>0</td>\n",
       "      <td>0</td>\n",
       "      <td>0</td>\n",
       "    </tr>\n",
       "  </tbody>\n",
       "</table>\n",
       "<p>8 rows × 128 columns</p>\n",
       "</div>"
      ],
      "text/plain": [
       "   0    1    2    3    4    5    6    7    8    9   ...   118  119  120  121  \\\n",
       "0    0    0    0    0    0    0    0    0    0    0 ...     0    0    0    0   \n",
       "1    0    0    0    0    0    0    0    0    0    0 ...     0    0    0    0   \n",
       "2    0    0    0    0    0    0    0    0    0    0 ...     0    0    0    0   \n",
       "3    0    0    0    0    0    0    0    0    0    0 ...     0    0    0    0   \n",
       "4    0    0    0    0    0    0    0    0    0    0 ...     0    0    0    0   \n",
       "5    0    0    0    0    0    0    0    0    0    0 ...     0    0    0    0   \n",
       "6    0    0    0    0    0    0    0    0    0    0 ...     0    0    0    0   \n",
       "7    0    0    0    0    0    0    0    0    0    0 ...     0    0    0    0   \n",
       "\n",
       "   122  123  124  125  126  127  \n",
       "0    0    0    0    0    0    0  \n",
       "1    0    0    0    0    0    0  \n",
       "2    0    0    0    0    0    0  \n",
       "3    0    0    0    0    0    0  \n",
       "4    0    0    0    0    0    0  \n",
       "5    0    0    0    0    0    0  \n",
       "6    0    0    0    0    0    0  \n",
       "7    0    0    0    0    0    0  \n",
       "\n",
       "[8 rows x 128 columns]"
      ]
     },
     "execution_count": 32,
     "metadata": {},
     "output_type": "execute_result"
    }
   ],
   "source": [
    "import pandas as pd\n",
    "import seaborn as sns  #用于绘制热图的工具包\n",
    "from scipy.cluster import hierarchy  #用于进行层次聚类，话层次聚类图的工具包\n",
    "from scipy import cluster  \n",
    "df = pd.DataFrame(h, index = labels)\n",
    "df"
   ]
  },
  {
   "cell_type": "code",
   "execution_count": 17,
   "metadata": {},
   "outputs": [
    {
     "data": {
      "text/plain": [
       "{'icoord': [[25.0, 25.0, 35.0, 35.0],\n",
       "  [15.0, 15.0, 30.0, 30.0],\n",
       "  [65.0, 65.0, 75.0, 75.0],\n",
       "  [55.0, 55.0, 70.0, 70.0],\n",
       "  [45.0, 45.0, 62.5, 62.5],\n",
       "  [22.5, 22.5, 53.75, 53.75],\n",
       "  [5.0, 5.0, 38.125, 38.125]],\n",
       " 'dcoord': [[0.0, 7.745966692414834, 7.745966692414834, 0.0],\n",
       "  [0.0, 14.047538337136984, 14.047538337136984, 7.745966692414834],\n",
       "  [0.0, 10.488088481701515, 10.488088481701515, 0.0],\n",
       "  [0.0, 11.045361017187263, 11.045361017187263, 10.488088481701515],\n",
       "  [0.0, 26.580067720004024, 26.580067720004024, 11.045361017187263],\n",
       "  [14.047538337136984,\n",
       "   37.25043943492798,\n",
       "   37.25043943492798,\n",
       "   26.580067720004024],\n",
       "  [0.0, 86.18626009156812, 86.18626009156812, 37.25043943492798]],\n",
       " 'ivl': [0, 2, 1, 4, 3, 6, 5, 7],\n",
       " 'leaves': [0, 2, 1, 4, 3, 6, 5, 7],\n",
       " 'color_list': ['g', 'g', 'g', 'g', 'g', 'g', 'b']}"
      ]
     },
     "execution_count": 17,
     "metadata": {},
     "output_type": "execute_result"
    },
    {
     "data": {
      "image/png": "[encoded data removed]",
      "text/plain": [
       "<Figure size 432x288 with 1 Axes>"
      ]
     },
     "metadata": {},
     "output_type": "display_data"
    }
   ],
   "source": [
    "Z = hierarchy.linkage(df, method ='ward',metric='euclidean')\n",
    "hierarchy.dendrogram(Z,labels = df.index)"
   ]
  },
  {
   "cell_type": "markdown",
   "metadata": {},
   "source": [
    "可裁剪"
   ]
  },
  {
   "cell_type": "code",
   "execution_count": 18,
   "metadata": {},
   "outputs": [
    {
     "data": {
      "text/plain": [
       "array([0, 1, 2, 3, 1, 4, 5, 6])"
      ]
     },
     "execution_count": 18,
     "metadata": {},
     "output_type": "execute_result"
    }
   ],
   "source": [
    "label = cluster.hierarchy.cut_tree(Z,height=t)\n",
    "label = label.reshape(label.size,)\n",
    "label"
   ]
  },
  {
   "cell_type": "code",
   "execution_count": 19,
   "metadata": {},
   "outputs": [
    {
     "data": {
      "text/plain": [
       "array([[ 1.        ,  4.        ,  7.74596669,  2.        ],\n",
       "       [ 5.        ,  7.        , 10.48808848,  2.        ],\n",
       "       [ 6.        ,  9.        , 11.04536102,  3.        ],\n",
       "       [ 2.        ,  8.        , 14.04753834,  3.        ],\n",
       "       [ 3.        , 10.        , 26.58006772,  4.        ],\n",
       "       [11.        , 12.        , 37.25043943,  7.        ],\n",
       "       [ 0.        , 13.        , 86.18626009,  8.        ]])"
      ]
     },
     "execution_count": 19,
     "metadata": {},
     "output_type": "execute_result"
    }
   ],
   "source": [
    "Z"
   ]
  },
  {
   "cell_type": "code",
   "execution_count": 31,
   "metadata": {},
   "outputs": [
    {
     "name": "stdout",
     "output_type": "stream",
     "text": [
      "   0    1    2    3    4    5    6    7    8    9   ...   118  119  120  121  \\\n",
      "0    0    0    0    0    0    0    0    0    0    0 ...     0    0    0    0   \n",
      "1    0    0    0    0    0    0    0    0    0    0 ...     0    0    0    0   \n",
      "2    0    0    0    0    0    0    0    0    0    0 ...     0    0    0    0   \n",
      "3    0    0    0    0    0    0    0    0    0    0 ...     0    0    0    0   \n",
      "4    0    0    0    0    0    0    0    0    0    0 ...     0    0    0    0   \n",
      "5    0    0    0    0    0    0    0    0    0    0 ...     0    0    0    0   \n",
      "6    0    0    0    0    0    0    0    0    0    0 ...     0    0    0    0   \n",
      "7    0    0    0    0    0    0    0    0    0    0 ...     0    0    0    0   \n",
      "\n",
      "   122  123  124  125  126  127  \n",
      "0    0    0    0    0    0    0  \n",
      "1    0    0    0    0    0    0  \n",
      "2    0    0    0    0    0    0  \n",
      "3    0    0    0    0    0    0  \n",
      "4    0    0    0    0    0    0  \n",
      "5    0    0    0    0    0    0  \n",
      "6    0    0    0    0    0    0  \n",
      "7    0    0    0    0    0    0  \n",
      "\n",
      "[8 rows x 128 columns]\n"
     ]
    },
    {
     "data": {
      "image/png": "[encoded data removed]",
      "text/plain": [
       "<Figure size 432x288 with 1 Axes>"
      ]
     },
     "metadata": {},
     "output_type": "display_data"
    },
    {
     "name": "stderr",
     "output_type": "stream",
     "text": [
      "F:\\Anaconda3\\lib\\site-packages\\ipykernel_launcher.py:31: DeprecationWarning: \n",
      ".ix is deprecated. Please use\n",
      ".loc for label based indexing or\n",
      ".iloc for positional indexing\n",
      "\n",
      "See the documentation here:\n",
      "http://pandas.pydata.org/pandas-docs/stable/indexing.html#ix-indexer-is-deprecated\n"
     ]
    },
    {
     "data": {
      "image/png": "[encoded data removed]",
      "text/plain": [
       "<Figure size 648x576 with 3 Axes>"
      ]
     },
     "metadata": {},
     "output_type": "display_data"
    }
   ],
   "source": [
    "#import pandas as pd\n",
    "#import numpy as np\n",
    "import matplotlib.pyplot as plt\n",
    "from scipy.spatial.distance import pdist,squareform\n",
    "from scipy.cluster.hierarchy import linkage\n",
    "from scipy.cluster.hierarchy import dendrogram\n",
    "from sklearn.cluster import AgglomerativeClustering\n",
    "#np.random.seed(123)\n",
    "#X=np.random.random_sample([5,3])*10\n",
    "#层次聚类树\n",
    "#df = pd.DataFrame(X,columns=variables,index=labels)\n",
    "\n",
    "df = pd.DataFrame(h, index = labels)\n",
    "print (df)\n",
    "#计算距离关联矩阵，两两样本间的欧式距离\n",
    "#row_dist = pd.DataFrame(squareform(pdist(df,metric='euclidean')),columns=labels,index=labels)\n",
    "#print (row_dist)\n",
    "#print (help(linkage))\n",
    "row_clusters = linkage(pdist(df,metric='euclidean'),method='ward')#使用抽秘籍距离矩阵\n",
    "#row_clusters = linkage(df.values,method='complete',metric='euclidean')\n",
    "print (pd.DataFrame(row_clusters,columns=['row label1','row label2','distance','no. of items in clust.'],index=['cluster %d'%(i+1) for i in range(row_clusters.shape[0])]))\n",
    "#层次聚类树\n",
    "row_dendr = dendrogram(row_clusters,labels=labels)\n",
    "plt.tight_layout()\n",
    "plt.ylabel('Euclidean distance')\n",
    "plt.show()\n",
    "#层次聚类热度图\n",
    "fig =plt.figure(figsize=(9,8))\n",
    "axd =fig.add_axes([0.08,0.16,0.2,0.5])\n",
    "row_dendr = dendrogram(row_clusters,orientation='left')\n",
    "df_rowclust = df.ix[row_dendr['leaves'][::-1]]\n",
    "axm = fig.add_axes([0.3,0.1,6.0,0.6])\n",
    "cax = axm.matshow(df_rowclust,interpolation='nearest',cmap='hot_r')\n",
    "axd.set_xticks([])\n",
    "axd.set_yticks([])\n",
    "for i in axd.spines.values():\n",
    "    i.set_visible(False)\n",
    "fig.colorbar(cax)\n",
    "axm.set_xticklabels(['']+list(df_rowclust.columns))\n",
    "axm.set_yticklabels(['']+list(df_rowclust.index))\n",
    "plt.show()\n",
    " \n",
    "#凝聚层次聚类，应用对层次聚类树剪枝\n",
    "ac=AgglomerativeClustering(n_clusters=3,affinity='euclidean',linkage='complete')\n",
    "#acc=ac.fit(h)\n",
    "#label = ac.fit_predict(h)\n",
    "#print ('cluster labels:%s'%label)"
   ]
  },
  {
   "cell_type": "markdown",
   "metadata": {},
   "source": [
    "p(i)  音符i在该轨出现的频率\n",
    "- 求和（1-12）p(i)log12p(i)"
   ]
  },
  {
   "cell_type": "code",
   "execution_count": 21,
   "metadata": {},
   "outputs": [
    {
     "data": {
      "text/plain": [
       "0.4275602484513778"
      ]
     },
     "execution_count": 21,
     "metadata": {},
     "output_type": "execute_result"
    }
   ],
   "source": [
    "#xi=pi(某音块平均音高) +128*calc_ent(ci)  ci 某音轨\n",
    "import math\n",
    "def calc_ent(x):\n",
    "    track_sum=np.sum(x)\n",
    "    ent = 0.0\n",
    "    for i in range(len(x)):\n",
    "        p = x[i]/track_sum\n",
    "        if (p!=0) :\n",
    "            logp=math.log(p,128)\n",
    "            ent -= p*logp\n",
    "    return ent\n",
    "c1= calc_ent(h[1])\n",
    "c1\n"
   ]
  },
  {
   "cell_type": "code",
   "execution_count": 30,
   "metadata": {},
   "outputs": [
    {
     "data": {
      "text/html": [
       "<div>\n",
       "<style scoped>\n",
       "    .dataframe tbody tr th:only-of-type {\n",
       "        vertical-align: middle;\n",
       "    }\n",
       "\n",
       "    .dataframe tbody tr th {\n",
       "        vertical-align: top;\n",
       "    }\n",
       "\n",
       "    .dataframe thead th {\n",
       "        text-align: right;\n",
       "    }\n",
       "</style>\n",
       "<table border=\"1\" class=\"dataframe\">\n",
       "  <thead>\n",
       "    <tr style=\"text-align: right;\">\n",
       "      <th></th>\n",
       "      <th>0</th>\n",
       "    </tr>\n",
       "  </thead>\n",
       "  <tbody>\n",
       "    <tr>\n",
       "      <th>0</th>\n",
       "      <td>48.942555</td>\n",
       "    </tr>\n",
       "    <tr>\n",
       "      <th>1</th>\n",
       "      <td>55.251149</td>\n",
       "    </tr>\n",
       "    <tr>\n",
       "      <th>2</th>\n",
       "      <td>45.281716</td>\n",
       "    </tr>\n",
       "    <tr>\n",
       "      <th>3</th>\n",
       "      <td>46.383124</td>\n",
       "    </tr>\n",
       "    <tr>\n",
       "      <th>1</th>\n",
       "      <td>53.259273</td>\n",
       "    </tr>\n",
       "    <tr>\n",
       "      <th>4</th>\n",
       "      <td>55.869317</td>\n",
       "    </tr>\n",
       "    <tr>\n",
       "      <th>5</th>\n",
       "      <td>55.862569</td>\n",
       "    </tr>\n",
       "    <tr>\n",
       "      <th>6</th>\n",
       "      <td>81.698599</td>\n",
       "    </tr>\n",
       "  </tbody>\n",
       "</table>\n",
       "</div>"
      ],
      "text/plain": [
       "           0\n",
       "0  48.942555\n",
       "1  55.251149\n",
       "2  45.281716\n",
       "3  46.383124\n",
       "1  53.259273\n",
       "4  55.869317\n",
       "5  55.862569\n",
       "6  81.698599"
      ]
     },
     "execution_count": 30,
     "metadata": {},
     "output_type": "execute_result"
    }
   ],
   "source": [
    "def calc_xi(h):\n",
    "    xi = []\n",
    "    for i in range(len(h)):\n",
    "         #计算平均音高\n",
    "        track_average = np.average(h[i])\n",
    "        xi.append(track_average+128*calc_ent(h[i]))\n",
    "    xi_ary = np.array(xi)\n",
    "    return xi_ary\n",
    "xi = calc_xi(h)\n",
    "        \n",
    "dfent = pd.DataFrame(xi, index = label)\n",
    "dfent"
   ]
  },
  {
   "cell_type": "markdown",
   "metadata": {},
   "source": [
    "选出每簇综合显著度（xi）最大的音轨为代表"
   ]
  },
  {
   "cell_type": "code",
   "execution_count": 52,
   "metadata": {},
   "outputs": [
    {
     "data": {
      "text/plain": [
       "55.25114930177636"
      ]
     },
     "execution_count": 52,
     "metadata": {},
     "output_type": "execute_result"
    }
   ],
   "source": [
    "al = dfent.loc[1]\n",
    "aa =al[0].tolist()\n",
    "maxx = np.max(aa)\n",
    "maxx"
   ]
  },
  {
   "cell_type": "code",
   "execution_count": 60,
   "metadata": {},
   "outputs": [
    {
     "name": "stdout",
     "output_type": "stream",
     "text": [
      "0\n",
      "1\n",
      "2\n",
      "3\n",
      "4\n",
      "5\n",
      "6\n"
     ]
    },
    {
     "data": {
      "text/plain": [
       "array([48.94255472, 55.2511493 , 45.28171598, 46.38312413, 55.86931714,\n",
       "       55.86256945, 81.69859933])"
      ]
     },
     "execution_count": 60,
     "metadata": {},
     "output_type": "execute_result"
    }
   ],
   "source": [
    "def get_xi_max(df,label):\n",
    "    xi = []\n",
    "    x_max = 0\n",
    "    maxx = 0\n",
    "    lenth = np.max(label)\n",
    "    for i in range(lenth+1):\n",
    "        print (i)\n",
    "        #先将每个簇的数据转为数组 方便比较\n",
    "        a_label = df.loc[i]\n",
    "        a_list = a_label[0].tolist()\n",
    "        x_max = np.max(a_list)\n",
    "        xi.append(x_max)\n",
    "    xi_ary = np.array(xi)\n",
    "    return xi_ary\n",
    "mmax = get_xi_max(dfent,label)\n",
    "mmax\n",
    "    \n"
   ]
  },
  {
   "cell_type": "code",
   "execution_count": null,
   "metadata": {},
   "outputs": [],
   "source": []
  }
 ],
 "metadata": {
  "kernelspec": {
   "display_name": "Python 3",
   "language": "python",
   "name": "python3"
  },
  "language_info": {
   "codemirror_mode": {
    "name": "ipython",
    "version": 3
   },
   "file_extension": ".py",
   "mimetype": "text/x-python",
   "name": "python",
   "nbconvert_exporter": "python",
   "pygments_lexer": "ipython3",
   "version": "3.6.5"
  }
 },
 "nbformat": 4,
 "nbformat_minor": 2
}
